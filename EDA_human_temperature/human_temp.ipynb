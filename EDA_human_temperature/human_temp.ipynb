{
 "cells": [
  {
   "cell_type": "markdown",
   "metadata": {},
   "source": [
    "# What is the True Normal Human Body Temperature? \n",
    "\n",
    "#### Background\n",
    "\n",
    "The mean normal body temperature was held to be 37$^{\\circ}$C or 98.6$^{\\circ}$F for more than 120 years since it was first conceptualized and reported by Carl Wunderlich in a famous 1868 book. But, is this value statistically correct?"
   ]
  },
  {
   "cell_type": "markdown",
   "metadata": {},
   "source": [
    "<h3>Exercises</h3>\n",
    "\n",
    "<p>In this exercise, you will analyze a dataset of human body temperatures and employ the concepts of hypothesis testing, confidence intervals, and statistical significance.</p>\n",
    "\n",
    "<p>Answer the following questions <b>in this notebook below and submit to your Github account</b>.</p> \n",
    "\n",
    "<ol>\n",
    "<li>  Is the distribution of body temperatures normal? \n",
    "    <ul>\n",
    "    <li> Although this is not a requirement for the Central Limit Theorem to hold (read the introduction on Wikipedia's page about the CLT carefully: https://en.wikipedia.org/wiki/Central_limit_theorem), it gives us some peace of mind that the population may also be normally distributed if we assume that this sample is representative of the population.\n",
    "    <li> Think about the way you're going to check for the normality of the distribution. Graphical methods are usually used first, but there are also other ways: https://en.wikipedia.org/wiki/Normality_test\n",
    "    </ul>\n",
    "<li>  Is the sample size large? Are the observations independent?\n",
    "    <ul>\n",
    "    <li> Remember that this is a condition for the Central Limit Theorem, and hence the statistical tests we are using, to apply.\n",
    "    </ul>\n",
    "<li>  Is the true population mean really 98.6 degrees F?\n",
    "    <ul>\n",
    "    <li> First, try a bootstrap hypothesis test.\n",
    "    <li> Now, let's try frequentist statistical testing. Would you use a one-sample or two-sample test? Why?\n",
    "    <li> In this situation, is it appropriate to use the $t$ or $z$ statistic? \n",
    "    <li> Now try using the other test. How is the result be different? Why?\n",
    "    </ul>\n",
    "<li>  Draw a small sample of size 10 from the data and repeat both frequentist tests. \n",
    "    <ul>\n",
    "    <li> Which one is the correct one to use? \n",
    "    <li> What do you notice? What does this tell you about the difference in application of the $t$ and $z$ statistic?\n",
    "    </ul>\n",
    "<li>  At what temperature should we consider someone's temperature to be \"abnormal\"?\n",
    "    <ul>\n",
    "    <li> As in the previous example, try calculating everything using the boostrap approach, as well as the frequentist approach.\n",
    "    <li> Start by computing the margin of error and confidence interval. When calculating the confidence interval, keep in mind that you should use the appropriate formula for one draw, and not N draws.\n",
    "    </ul>\n",
    "<li>  Is there a significant difference between males and females in normal temperature?\n",
    "    <ul>\n",
    "    <li> What testing approach did you use and why?\n",
    "    <li> Write a story with your conclusion in the context of the original problem.\n",
    "    </ul>\n",
    "</ol>\n",
    "\n",
    "You can include written notes in notebook cells using Markdown: \n",
    "   - In the control panel at the top, choose Cell > Cell Type > Markdown\n",
    "   - Markdown syntax: http://nestacms.com/docs/creating-content/markdown-cheat-sheet\n",
    "\n",
    "#### Resources\n",
    "\n",
    "+ Information and data sources: http://www.amstat.org/publications/jse/datasets/normtemp.txt, http://www.amstat.org/publications/jse/jse_data_archive.htm\n",
    "+ Markdown syntax: http://nestacms.com/docs/creating-content/markdown-cheat-sheet\n",
    "\n",
    "****"
   ]
  },
  {
   "cell_type": "code",
   "execution_count": 258,
   "metadata": {},
   "outputs": [],
   "source": [
    "import pandas as pd\n",
    "\n",
    "df = pd.read_csv('data/human_body_temperature.csv')"
   ]
  },
  {
   "cell_type": "code",
   "execution_count": 259,
   "metadata": {},
   "outputs": [
    {
     "name": "stdout",
     "output_type": "stream",
     "text": [
      "(130, 3)\n"
     ]
    },
    {
     "data": {
      "text/html": [
       "<div>\n",
       "<style scoped>\n",
       "    .dataframe tbody tr th:only-of-type {\n",
       "        vertical-align: middle;\n",
       "    }\n",
       "\n",
       "    .dataframe tbody tr th {\n",
       "        vertical-align: top;\n",
       "    }\n",
       "\n",
       "    .dataframe thead th {\n",
       "        text-align: right;\n",
       "    }\n",
       "</style>\n",
       "<table border=\"1\" class=\"dataframe\">\n",
       "  <thead>\n",
       "    <tr style=\"text-align: right;\">\n",
       "      <th></th>\n",
       "      <th>temperature</th>\n",
       "      <th>gender</th>\n",
       "      <th>heart_rate</th>\n",
       "    </tr>\n",
       "  </thead>\n",
       "  <tbody>\n",
       "    <tr>\n",
       "      <th>0</th>\n",
       "      <td>99.3</td>\n",
       "      <td>F</td>\n",
       "      <td>68.0</td>\n",
       "    </tr>\n",
       "    <tr>\n",
       "      <th>1</th>\n",
       "      <td>98.4</td>\n",
       "      <td>F</td>\n",
       "      <td>81.0</td>\n",
       "    </tr>\n",
       "    <tr>\n",
       "      <th>2</th>\n",
       "      <td>97.8</td>\n",
       "      <td>M</td>\n",
       "      <td>73.0</td>\n",
       "    </tr>\n",
       "    <tr>\n",
       "      <th>3</th>\n",
       "      <td>99.2</td>\n",
       "      <td>F</td>\n",
       "      <td>66.0</td>\n",
       "    </tr>\n",
       "    <tr>\n",
       "      <th>4</th>\n",
       "      <td>98.0</td>\n",
       "      <td>F</td>\n",
       "      <td>73.0</td>\n",
       "    </tr>\n",
       "  </tbody>\n",
       "</table>\n",
       "</div>"
      ],
      "text/plain": [
       "   temperature gender  heart_rate\n",
       "0         99.3      F        68.0\n",
       "1         98.4      F        81.0\n",
       "2         97.8      M        73.0\n",
       "3         99.2      F        66.0\n",
       "4         98.0      F        73.0"
      ]
     },
     "execution_count": 259,
     "metadata": {},
     "output_type": "execute_result"
    }
   ],
   "source": [
    "# Your work here.\n",
    "import numpy as np\n",
    "import matplotlib.pyplot as plt\n",
    "import seaborn as sns\n",
    "import scipy.stats as stats\n",
    "\n",
    "print(df.shape)\n",
    "df.head()"
   ]
  },
  {
   "cell_type": "markdown",
   "metadata": {},
   "source": [
    "## 1) Is the distribution of body temperatures normal?\n",
    "We'll start by taking a look at the histogram of the data to see if it appears normally distributed."
   ]
  },
  {
   "cell_type": "code",
   "execution_count": 260,
   "metadata": {},
   "outputs": [
    {
     "data": {
      "image/png": "[encoded data removed]",
      "text/plain": [
       "<Figure size 432x288 with 1 Axes>"
      ]
     },
     "metadata": {},
     "output_type": "display_data"
    }
   ],
   "source": [
    "temp = df.temperature\n",
    "mean = np.mean(temp)\n",
    "std = np.std(temp)\n",
    "\n",
    "# plot histogram of the data\n",
    "plt.hist(temp, density = True)\n",
    "plt.title(\"Histogram of Body Temperature\")\n",
    "plt.xlabel(\"Temperature (°F)\")\n",
    "\n",
    "# add a dashed line at the mean\n",
    "plt.axvline(mean, color = \"black\", linestyle = \"dashed\")\n",
    "\n",
    "# add normal curve\n",
    "pdf = stats.norm.pdf(temp, mean, std)\n",
    "plt.plot(temp, pdf, \".\")\n",
    "plt.show()"
   ]
  },
  {
   "cell_type": "markdown",
   "metadata": {},
   "source": [
    "The data appear symmetrical accross the mean, and there does not appear to be any outliers. We might conclude it is reasonable to assume normality, but just to be sure we will check the ECDF."
   ]
  },
  {
   "cell_type": "code",
   "execution_count": 261,
   "metadata": {},
   "outputs": [],
   "source": [
    "# create a function to give us the ECDF\n",
    "def ecdf(data):\n",
    "    x = np.sort(data)\n",
    "    y = np.arange(1, len(x) + 1) / len(x)\n",
    "    return x, y"
   ]
  },
  {
   "cell_type": "code",
   "execution_count": 262,
   "metadata": {},
   "outputs": [],
   "source": [
    "# calculate mean, std dev of data\n",
    "mean = np.mean(temp)\n",
    "std = np.std(temp)\n",
    "\n",
    "# set seed\n",
    "np.random.seed(12345)\n",
    "\n",
    "# simulate random normal distribution\n",
    "samples = np.random.normal(mean, std, 10000)\n",
    "\n",
    "# compute ecdf of data, and normally distributed theoretical samples\n",
    "x_sample, y_sample = ecdf(samples)\n",
    "x, y = ecdf(temp)"
   ]
  },
  {
   "cell_type": "code",
   "execution_count": 263,
   "metadata": {},
   "outputs": [
    {
     "data": {
      "image/png": "[encoded data removed]",
      "text/plain": [
       "<Figure size 432x288 with 1 Axes>"
      ]
     },
     "metadata": {},
     "output_type": "display_data"
    }
   ],
   "source": [
    "# plot ecdf of body temp against theoretical normal dist\n",
    "plt.plot(x, y, marker = \".\", linestyle = \"none\", label = \"Observed values\")\n",
    "plt.plot(x_sample, y_sample, label = \"Normal Distribution\")\n",
    "plt.ylabel(\"ECDF\")\n",
    "plt.xlabel(\"Temperature (°F)\")\n",
    "plt.title(\"ECDF of Body Temp Vs Theoretical Normal Distribution\")\n",
    "plt.legend(loc = \"upper left\")\n",
    "plt.show()"
   ]
  },
  {
   "cell_type": "markdown",
   "metadata": {},
   "source": [
    "Based on our two above approaches, it does indeed appear that the data are approximately normally distributed.\n",
    "## 2) Is the sample size large? Are the observations independent?"
   ]
  },
  {
   "cell_type": "code",
   "execution_count": 264,
   "metadata": {},
   "outputs": [
    {
     "name": "stdout",
     "output_type": "stream",
     "text": [
      "(130, 3)\n"
     ]
    }
   ],
   "source": [
    "print(df.shape)"
   ]
  },
  {
   "cell_type": "markdown",
   "metadata": {},
   "source": [
    "We don't know if the data were sampled with replacement, however since there are 130 observations (and 130 is less than 10% of the population) we can assume we can treat individual observations as if they were independent. This is because removing each observation doesn't change the population very much as we sample. Also, the sample size is greater than 30, which is the general rule for assuming normality. Thus the sample is large enough, but not too large either.\n",
    "## 3) Is the true population mean really 98.6 degrees F?\n",
    "* First, try a bootstrap hypothesis test.\n",
    "* Now, let's try frequentist statistical testing. Would you use a one-sample or two-sample test? Why?\n",
    "* In this situation, is it appropriate to use the  𝑡  or  𝑧  statistic?\n",
    "* Now try using the other test. How is the result different? Why?\n",
    "\n",
    "**Null Hypothesis:** Mean human body temperature is equal to 98.6 °F\n",
    "\n",
    "**Alternative Hypothesis:** Mean human body temperature is *not* equal to 98.6 °F\n",
    "\n",
    "We'll set our significance level (alpha) to be 0.05"
   ]
  },
  {
   "cell_type": "code",
   "execution_count": 265,
   "metadata": {},
   "outputs": [],
   "source": [
    "# define the function to get bootstrap samples\n",
    "def draw_bs_reps(data, func, size):\n",
    "    # Initialize empty array of replicates\n",
    "    bs_replicates = np.empty(size)\n",
    "\n",
    "    # Generate replicates\n",
    "    for i in range(size):\n",
    "        bs_replicates[i] = func(np.random.choice(data, size=len(data)))\n",
    "\n",
    "    return bs_replicates"
   ]
  },
  {
   "cell_type": "code",
   "execution_count": 266,
   "metadata": {},
   "outputs": [
    {
     "data": {
      "image/png": "[encoded data removed]",
      "text/plain": [
       "<Figure size 432x288 with 1 Axes>"
      ]
     },
     "metadata": {},
     "output_type": "display_data"
    }
   ],
   "source": [
    "# get the bootstrap replicates\n",
    "np.random.seed(12345)\n",
    "bs_reps = draw_bs_reps(data = temp, func = np.mean, size = 10000)\n",
    "\n",
    "# plot a histogram of the bootstrap replicates\n",
    "plt.hist(bs_reps, bins = 50, density = True)\n",
    "plt.xlabel(\"Mean Temperature (°F)\")\n",
    "plt.title(\"Bootstrapped Sampling Distribution of Means\")\n",
    "plt.axvline(98.6, color = \"black\")\n",
    "plt.show()"
   ]
  },
  {
   "cell_type": "code",
   "execution_count": 267,
   "metadata": {},
   "outputs": [
    {
     "name": "stdout",
     "output_type": "stream",
     "text": [
      "P-value for the bootstrap hypothesis test: 0.0\n"
     ]
    }
   ],
   "source": [
    "bs_p_value = sum(bs_reps >= 98.6) / len(bs_reps) * 2\n",
    "print(\"P-value for the bootstrap hypothesis test: \" + str(bs_p_value))"
   ]
  },
  {
   "cell_type": "markdown",
   "metadata": {},
   "source": [
    "The bootstrap hypothesis test suggests that we may reject the null hypothesis in favor of the alternative hypothesis. That is to say, the true population mean of body temperature is *not* equal to 98.6 °F.\n",
    "\n",
    "\n",
    "We will use a one-sample t-test next. We use one sample since we are given a sample of body temperatures and wish to compare it to the historical population mean. We use the t-test instead of the z-test since we do not know the population standard deviation, which is required in the computations."
   ]
  },
  {
   "cell_type": "code",
   "execution_count": 268,
   "metadata": {},
   "outputs": [
    {
     "name": "stdout",
     "output_type": "stream",
     "text": [
      "P-value for the one sample t-test is: 0.0000002411\n"
     ]
    }
   ],
   "source": [
    "# initialize values for calculating t-statistic\n",
    "x_bar = np.mean(temp)\n",
    "S_x = np.std(temp)\n",
    "n = len(temp)\n",
    "mu0 = 98.6\n",
    "\n",
    "# calculate the t-statistic\n",
    "t_stat = (x_bar - mu0) / (S_x / np.sqrt(n - 1))\n",
    "\n",
    "# calculate the p-value\n",
    "p_value = stats.t.sf(np.abs(t_stat), n - 1) * 2\n",
    "\n",
    "print(\"P-value for the one sample t-test is: %.10f\" % p_value)"
   ]
  },
  {
   "cell_type": "markdown",
   "metadata": {},
   "source": [
    "Since our p-value is once again lower than alpha = 0.05, we can reject the null hypothesis in favor of the alternative hypothesis: the true mean body temperature is *not* equal to 98.6 °F.\n",
    "\n",
    "Next we try using a z-test."
   ]
  },
  {
   "cell_type": "code",
   "execution_count": 269,
   "metadata": {},
   "outputs": [
    {
     "name": "stdout",
     "output_type": "stream",
     "text": [
      "P-value for the z-test is: 0.0000000490\n"
     ]
    }
   ],
   "source": [
    "# calculate estimate of std error\n",
    "SE = std / np.sqrt(n - 1)\n",
    "\n",
    "# calculate the z-stat\n",
    "z_stat = (mean - mu0) / SE\n",
    "\n",
    "# calculate the p-value\n",
    "p_value_z = stats.norm.cdf(z_stat) * 2\n",
    "print(\"P-value for the z-test is: %.10f\" % p_value_z)"
   ]
  },
  {
   "cell_type": "markdown",
   "metadata": {},
   "source": [
    "The p-value is less than alpha, once again we reject the null hypothesis. \n",
    "## 4) Draw a small sample of size 10 from the data and repeat both frequentist tests.\n",
    "* Which one is the correct one to use?\n",
    "* What do you notice? What does this tell you about the difference in application of the  𝑡  and  𝑧  statistic?"
   ]
  },
  {
   "cell_type": "code",
   "execution_count": 270,
   "metadata": {},
   "outputs": [
    {
     "name": "stdout",
     "output_type": "stream",
     "text": [
      "P-value for the t-test is: 0.1267573603\n",
      "P-value for the z-test is: 0.0924645227\n"
     ]
    }
   ],
   "source": [
    "# set seed\n",
    "np.random.seed(123)\n",
    "\n",
    "# draw sample of ten\n",
    "sample = np.random.choice(temp, size = 10)\n",
    "\n",
    "# t-test\n",
    "z, p = stats.ttest_1samp(sample, mu0)\n",
    "\n",
    "# z-test\n",
    "# calculate the z-stat/p-value\n",
    "z_stat = (np.mean(sample) - mu0) / (np.std(sample) / np.sqrt(len(sample) - 1))\n",
    "\n",
    "p_z = stats.norm.cdf(z_stat) * 2\n",
    "\n",
    "print(\"P-value for the t-test is: %.10f\" % p)\n",
    "print(\"P-value for the z-test is: %.10f\" % p_z)"
   ]
  },
  {
   "cell_type": "markdown",
   "metadata": {},
   "source": [
    "We should use the t-test since we have a small sample sie (n = 10 < 30) and we do not know the true population standard deviation, which is required to estimate the standard error. The z-test shows a lower p-value, and may lead to more type I errors where we erroneously reject the null hypothesis.\n",
    "## 5) At what temperature should we consider someone's temperature to be \"abnormal\"?\n",
    "* As in the previous example, try calculating everything using the boostrap approach, as well as the frequentist approach.\n",
    "* Start by computing the margin of error and confidence interval. When calculating the confidence interval, keep in mind that you should use the appropriate formula for one draw, and not N draws."
   ]
  },
  {
   "cell_type": "code",
   "execution_count": 271,
   "metadata": {},
   "outputs": [
    {
     "name": "stdout",
     "output_type": "stream",
     "text": [
      "95% Bootstrap Confidence Interval:  [98.12615385 98.37694231]\n",
      "95% t-test Confidence Interval:  [98.12200290560804, 98.37645863285351]\n"
     ]
    }
   ],
   "source": [
    "# bootstrap confidence interval\n",
    "bs_ci = np.percentile(bs_reps, [2.5, 97.5])\n",
    "\n",
    "# t-stat confidence interval\n",
    "critical_val = stats.t.ppf(0.975, n - 1)\n",
    "margin = critical_val * SE\n",
    "\n",
    "t_ci = [mean - margin, mean + margin]\n",
    "\n",
    "print(\"95% Bootstrap Confidence Interval: \", bs_ci)\n",
    "print(\"95% t-test Confidence Interval: \", t_ci)"
   ]
  },
  {
   "cell_type": "markdown",
   "metadata": {},
   "source": [
    "If we use the confidence intervals we calculated above, this would suggest an abnormal temperature would be less than 98.1 °F or greater than 98.4 °F. However, this does not seem to make much sense when we consider how many healthy people may have body temperatures outside that range. Instead what we want is to calculate a prediction interval."
   ]
  },
  {
   "cell_type": "code",
   "execution_count": 272,
   "metadata": {},
   "outputs": [
    {
     "name": "stdout",
     "output_type": "stream",
     "text": [
      "95% prediction interval:  (96.81775582674824, 99.68070571171332)\n"
     ]
    }
   ],
   "source": [
    "pi = stats.norm.interval(0.95, loc = mean, scale = std)\n",
    "print('95% prediction interval: ', pi)"
   ]
  },
  {
   "cell_type": "markdown",
   "metadata": {},
   "source": [
    "This indicates that an abnormal body temperature would be less than 96.8 °F or greater than 99.7 °F."
   ]
  },
  {
   "cell_type": "markdown",
   "metadata": {},
   "source": [
    "## 6) Is there a significant difference between males and females in normal temperature?\n",
    "* What testing approach did you use and why?\n",
    "* Write a story with your conclusion in the context of the original problem.\n",
    "\n",
    "We will answer this question by comparing the sample means for the two groups, and conducting a t-test. We don't know the standard deviation for the population, so we want to use the t-test, but we also don't know for sure if the variances across the two groups are equal. For this reason we must use Welch's T-test.\n",
    "\n",
    "**Null Hypothesis:** The difference in mean body temperature between male and female groups is equal to 0\n",
    "\n",
    "**Alternative Hypothesis:**  The difference in mean body temperature between male and female groups is *not* equal to 0\n",
    "\n",
    "We'll set our significance level (alpha) to be 0.05"
   ]
  },
  {
   "cell_type": "code",
   "execution_count": 273,
   "metadata": {},
   "outputs": [
    {
     "name": "stdout",
     "output_type": "stream",
     "text": [
      "Mean male body temp: 98.10 °F\n",
      "Mean female body temp: 98.39 °F\n",
      "Difference in male & female mean body temp: 0.2892 °F\n",
      "P-value for Welch's T-test: 0.0239382642\n"
     ]
    }
   ],
   "source": [
    "mtemp = df.temperature[df.gender == \"M\"]\n",
    "ftemp = df.temperature[df.gender == \"F\"]\n",
    "\n",
    "mean_m = np.mean(mtemp)\n",
    "mean_f = np.mean(ftemp)\n",
    "\n",
    "import scipy\n",
    "\n",
    "# calculate p-value\n",
    "stat, pvalue = scipy.stats.ttest_ind(mtemp, ftemp, equal_var = False)\n",
    "\n",
    "print(\"Mean male body temp: %.2f °F\" % mean_m)\n",
    "print(\"Mean female body temp: %.2f °F\" % mean_f)\n",
    "print(\"Difference in male & female mean body temp: %.4f °F\" % (mean_f - mean_m))\n",
    "print(\"P-value for Welch's T-test: %.10f\" % pvalue)"
   ]
  },
  {
   "cell_type": "markdown",
   "metadata": {},
   "source": [
    "**Conclusion:** We determined that the true population mean of body temperature is around 98.25 °F, and we are 95% confident it lies between 98.1 and 98.4 °F. We also discovered that there is likely a difference in mean body tempeture across genders. Since our p-value is less than alpha = 0.05, we reject the null hypothesis: there is a statistically significant difference between male and female mean body temperature."
   ]
  },
  {
   "cell_type": "markdown",
   "metadata": {},
   "source": []
  }
 ],
 "metadata": {
  "kernelspec": {
   "display_name": "Python 3",
   "language": "python",
   "name": "python3"
  },
  "language_info": {
   "codemirror_mode": {
    "name": "ipython",
    "version": 3
   },
   "file_extension": ".py",
   "mimetype": "text/x-python",
   "name": "python",
   "nbconvert_exporter": "python",
   "pygments_lexer": "ipython3",
   "version": "3.7.1"
  }
 },
 "nbformat": 4,
 "nbformat_minor": 1
}
